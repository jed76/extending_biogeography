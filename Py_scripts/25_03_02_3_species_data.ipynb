{
 "cells": [
  {
   "cell_type": "code",
   "execution_count": 1,
   "metadata": {},
   "outputs": [],
   "source": [
    "import requests as req\n",
    "from bs4 import BeautifulSoup\n",
    "import glob\n",
    "import numpy as np\n",
    "import pandas as pd"
   ]
  },
  {
   "cell_type": "code",
   "execution_count": 2,
   "metadata": {},
   "outputs": [],
   "source": [
    "file = open('../html_files/host_2.html')\n",
    "soup = BeautifulSoup(file, 'html.parser')"
   ]
  },
  {
   "cell_type": "code",
   "execution_count": 3,
   "metadata": {},
   "outputs": [
    {
     "name": "stdout",
     "output_type": "stream",
     "text": [
      "Parasaissetia nigra (Nietner)\n",
      "Saissetia coffeae (Walker)\n",
      "Pinnaspis strachani (Cooley)\n",
      "Pseudaulacaspis pentagona (Targioni)\n",
      "Earias biplaga (Walker)\n",
      "Earias vittella (F.)\n"
     ]
    }
   ],
   "source": [
    "soup.select_one('#cphBody_lblTaxonomy i').text.strip() # host name\n",
    "symbionts = soup.select('#cphBody_dgHost tr i')\n",
    "for symbiont in symbionts:\n",
    "    print(symbiont.text.strip())\n",
    "    "
   ]
  },
  {
   "cell_type": "code",
   "execution_count": 4,
   "metadata": {},
   "outputs": [],
   "source": [
    "def get_data(hostid):\n",
    "    data = []\n",
    "\n",
    "    file = open('../html_files/host_' + str(hostid) + '.html')\n",
    "\n",
    "    soup = BeautifulSoup(file, 'html.parser')\n",
    "    # host name --------------------------------------------------------------------------------------\n",
    "    host_name = soup.select_one('#cphBody_lblTaxonomy i').text.strip()\n",
    "\n",
    "    # symbionts --------------------------------------------------------------------------------------\n",
    "    symbionts = soup.select('#cphBody_dgHost tr i')\n",
    "    for symbiont in symbionts:\n",
    "        data.append([hostid, host_name, symbiont.text.strip()])\n",
    "\n",
    "    return data"
   ]
  },
  {
   "cell_type": "code",
   "execution_count": null,
   "metadata": {},
   "outputs": [],
   "source": [
    "no_hosts = 6160 # max = 6160; N.B. this takes almost 4 minutes\n",
    "\n",
    "data = []\n",
    "\n",
    "for hostid in range(1, no_hosts):\n",
    "    data.extend(get_data(hostid))\n",
    "\n",
    "df = pd.DataFrame(data, columns = ['hostid', 'host_name', 'symbiont_name'])"
   ]
  },
  {
   "cell_type": "code",
   "execution_count": 41,
   "metadata": {},
   "outputs": [
    {
     "data": {
      "text/html": [
       "<div>\n",
       "<style scoped>\n",
       "    .dataframe tbody tr th:only-of-type {\n",
       "        vertical-align: middle;\n",
       "    }\n",
       "\n",
       "    .dataframe tbody tr th {\n",
       "        vertical-align: top;\n",
       "    }\n",
       "\n",
       "    .dataframe thead th {\n",
       "        text-align: right;\n",
       "    }\n",
       "</style>\n",
       "<table border=\"1\" class=\"dataframe\">\n",
       "  <thead>\n",
       "    <tr style=\"text-align: right;\">\n",
       "      <th></th>\n",
       "      <th>hostid</th>\n",
       "      <th>host_name</th>\n",
       "      <th>symbiont_name</th>\n",
       "    </tr>\n",
       "  </thead>\n",
       "  <tbody>\n",
       "    <tr>\n",
       "      <th>0</th>\n",
       "      <td>1</td>\n",
       "      <td>(not confirmed)</td>\n",
       "      <td>Trigonophora flammea (Esper)</td>\n",
       "    </tr>\n",
       "    <tr>\n",
       "      <th>1</th>\n",
       "      <td>2</td>\n",
       "      <td>Abelmoschus esculentus</td>\n",
       "      <td>Parasaissetia nigra (Nietner)</td>\n",
       "    </tr>\n",
       "    <tr>\n",
       "      <th>2</th>\n",
       "      <td>2</td>\n",
       "      <td>Abelmoschus esculentus</td>\n",
       "      <td>Saissetia coffeae (Walker)</td>\n",
       "    </tr>\n",
       "    <tr>\n",
       "      <th>3</th>\n",
       "      <td>2</td>\n",
       "      <td>Abelmoschus esculentus</td>\n",
       "      <td>Pinnaspis strachani (Cooley)</td>\n",
       "    </tr>\n",
       "    <tr>\n",
       "      <th>4</th>\n",
       "      <td>2</td>\n",
       "      <td>Abelmoschus esculentus</td>\n",
       "      <td>Pseudaulacaspis pentagona (Targioni)</td>\n",
       "    </tr>\n",
       "    <tr>\n",
       "      <th>...</th>\n",
       "      <td>...</td>\n",
       "      <td>...</td>\n",
       "      <td>...</td>\n",
       "    </tr>\n",
       "    <tr>\n",
       "      <th>47735</th>\n",
       "      <td>6158</td>\n",
       "      <td>Zea mays</td>\n",
       "      <td>Sitotroga cerealella (Olivier)</td>\n",
       "    </tr>\n",
       "    <tr>\n",
       "      <th>47736</th>\n",
       "      <td>6158</td>\n",
       "      <td>Zea mays</td>\n",
       "      <td>Hymenia recurvalis (F.)</td>\n",
       "    </tr>\n",
       "    <tr>\n",
       "      <th>47737</th>\n",
       "      <td>6158</td>\n",
       "      <td>Zea mays</td>\n",
       "      <td>Cnephasia asseclana (Denis &amp; Schiffermuller)</td>\n",
       "    </tr>\n",
       "    <tr>\n",
       "      <th>47738</th>\n",
       "      <td>6159</td>\n",
       "      <td>Ziziphus jujuba</td>\n",
       "      <td>Pinnaspis strachani (Cooley)</td>\n",
       "    </tr>\n",
       "    <tr>\n",
       "      <th>47739</th>\n",
       "      <td>6159</td>\n",
       "      <td>Ziziphus jujuba</td>\n",
       "      <td>Aonidiella aurantii (Maskell)</td>\n",
       "    </tr>\n",
       "  </tbody>\n",
       "</table>\n",
       "<p>47740 rows × 3 columns</p>\n",
       "</div>"
      ],
      "text/plain": [
       "       hostid               host_name  \\\n",
       "0           1         (not confirmed)   \n",
       "1           2  Abelmoschus esculentus   \n",
       "2           2  Abelmoschus esculentus   \n",
       "3           2  Abelmoschus esculentus   \n",
       "4           2  Abelmoschus esculentus   \n",
       "...       ...                     ...   \n",
       "47735    6158                Zea mays   \n",
       "47736    6158                Zea mays   \n",
       "47737    6158                Zea mays   \n",
       "47738    6159         Ziziphus jujuba   \n",
       "47739    6159         Ziziphus jujuba   \n",
       "\n",
       "                                      symbiont_name  \n",
       "0                      Trigonophora flammea (Esper)  \n",
       "1                     Parasaissetia nigra (Nietner)  \n",
       "2                        Saissetia coffeae (Walker)  \n",
       "3                      Pinnaspis strachani (Cooley)  \n",
       "4              Pseudaulacaspis pentagona (Targioni)  \n",
       "...                                             ...  \n",
       "47735                Sitotroga cerealella (Olivier)  \n",
       "47736                       Hymenia recurvalis (F.)  \n",
       "47737  Cnephasia asseclana (Denis & Schiffermuller)  \n",
       "47738                  Pinnaspis strachani (Cooley)  \n",
       "47739                 Aonidiella aurantii (Maskell)  \n",
       "\n",
       "[47740 rows x 3 columns]"
      ]
     },
     "execution_count": 41,
     "metadata": {},
     "output_type": "execute_result"
    }
   ],
   "source": [
    "df"
   ]
  },
  {
   "cell_type": "markdown",
   "metadata": {},
   "source": [
    "# Clean data"
   ]
  },
  {
   "cell_type": "code",
   "execution_count": 6,
   "metadata": {},
   "outputs": [
    {
     "ename": "NameError",
     "evalue": "name 'df' is not defined",
     "output_type": "error",
     "traceback": [
      "\u001b[1;31m---------------------------------------------------------------------------\u001b[0m",
      "\u001b[1;31mNameError\u001b[0m                                 Traceback (most recent call last)",
      "Cell \u001b[1;32mIn[6], line 1\u001b[0m\n\u001b[1;32m----> 1\u001b[0m \u001b[43mdf\u001b[49m\u001b[38;5;241m.\u001b[39mdrop(hostid \u001b[38;5;241m=\u001b[39m \u001b[38;5;124m\"\u001b[39m\u001b[38;5;124m5330\u001b[39m\u001b[38;5;124m\"\u001b[39m)\n",
      "\u001b[1;31mNameError\u001b[0m: name 'df' is not defined"
     ]
    }
   ],
   "source": [
    "df.drop(hostid = \"5330\")"
   ]
  },
  {
   "cell_type": "code",
   "execution_count": 42,
   "metadata": {},
   "outputs": [],
   "source": [
    "df.to_csv('../data/all_symbionts.csv', index=False)"
   ]
  }
 ],
 "metadata": {
  "kernelspec": {
   "display_name": "extending_biogeography",
   "language": "python",
   "name": "python3"
  },
  "language_info": {
   "codemirror_mode": {
    "name": "ipython",
    "version": 3
   },
   "file_extension": ".py",
   "mimetype": "text/x-python",
   "name": "python",
   "nbconvert_exporter": "python",
   "pygments_lexer": "ipython3",
   "version": "3.9.13"
  }
 },
 "nbformat": 4,
 "nbformat_minor": 2
}
